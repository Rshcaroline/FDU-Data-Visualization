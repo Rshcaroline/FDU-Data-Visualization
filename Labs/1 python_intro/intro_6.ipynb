{
 "cells": [
  {
   "cell_type": "code",
   "execution_count": 7,
   "metadata": {},
   "outputs": [
    {
     "name": "stdout",
     "output_type": "stream",
     "text": [
      "Value of expression is 100\n",
      "{1: 'world!', 2: 'world!', 3: 'world!'}\n"
     ]
    }
   ],
   "source": [
    "var = 90\n",
    "var = 100\n",
    "\n",
    "if ( var  == 100 ) : #if运算符\n",
    "    print (\"Value of expression is 100\")\n",
    "else:\n",
    "    print (\"Value of expression is not 100\")\n",
    "    \n",
    "\n",
    "# c = 3\n",
    "# while(c<10):#while控制结构\n",
    "#     c+=1\n",
    "#     print(c)\n",
    "#     if c>5:\n",
    "#         break#通过break关键字跳出循环\n",
    "\n",
    "# c = 3\n",
    "# while(c<10):#while控制结构\n",
    "#     c+=1\n",
    "#     print(c)\n",
    "#     if c>5:\n",
    "#         continue#通过break关键字跳出循环\n",
    "#     c+=2\n",
    "\n",
    "c = 3\n",
    "while(c<10):#while控制结构\n",
    "    c+=1\n",
    "   # print(c)\n",
    "    if c%2==0:\n",
    "        pass#使用pass略过执行\n",
    "    else:\n",
    "        pass #print(u'奇数')\n",
    "    \n",
    "list = [1,2,3]\n",
    "list1 = [\"hello \",\"world!\"]\n",
    "#dict={}\n",
    "for l in list:#for控制结构\n",
    "    for e in list1:\n",
    "        dict.update({l:e})\n",
    "   \n",
    "print(dict)"
   ]
  },
  {
   "cell_type": "markdown",
   "metadata": {
    "collapsed": true
   },
   "source": [
    "## If statement and Loop\n",
    "\n",
    "  \n",
    "* 代码执行常用决策结构\n",
    "    ![api](res/decision_api1.png)\n",
    "    \n",
    "    \n",
    "    \n",
    "    \n",
    "* 代码执行循环控制结构\n",
    "    ![api](res/decison_api2.png)\n",
    "    ![api](res/decison_api3.png)"
   ]
  },
  {
   "cell_type": "code",
   "execution_count": 11,
   "metadata": {},
   "outputs": [
    {
     "name": "stdout",
     "output_type": "stream",
     "text": [
      "Value of expression is 100\n",
      "4\n",
      "5\n",
      "8\n"
     ]
    }
   ],
   "source": [
    "var = 90\n",
    "var = 100\n",
    "\n",
    "if ( var  == 100 ) : #if运算符\n",
    "    print (\"Value of expression is 100\")\n",
    "else:\n",
    "    print (\"Value of expression is not 100\")\n",
    "    \n",
    "    \n",
    "    \n",
    "# c = 3\n",
    "# while(c<10):#while控制结构\n",
    "#     c+=1\n",
    "#     print(c)\n",
    "\n",
    "# c = 3\n",
    "# while(c<10):#while控制结构\n",
    "#     c+=1\n",
    "#     print(c)\n",
    "#     if c>5:\n",
    "#         break#通过break关键字跳出循环\n",
    "\n",
    "# c = 3\n",
    "# while(c<10):#while控制结构\n",
    "#     c+=1\n",
    "#     print(c)\n",
    "#     if c>5:\n",
    "#         continue#通过break关键字跳出循环\n",
    "#     c+=2\n",
    "\n",
    "c = 3\n",
    "while(c<10):#while控制结构\n",
    "    c+=1\n",
    "    print(c)\n",
    "    if c<5:\n",
    "        pass#使用pass略过执行\n",
    "    else:\n",
    "        c+=2\n",
    "    \n",
    "# list = [1,2,3]\n",
    "# list1 = [\"hello \",\"world!\"]\n",
    "# for l in list:#for控制结构\n",
    "#     for e in list1:\n",
    "#         print(e)\n",
    "#     print(l,\"\\n\")"
   ]
  },
  {
   "cell_type": "code",
   "execution_count": null,
   "metadata": {
    "collapsed": true
   },
   "outputs": [],
   "source": []
  }
 ],
 "metadata": {
  "kernelspec": {
   "display_name": "Python 3",
   "language": "python",
   "name": "python3"
  },
  "language_info": {
   "codemirror_mode": {
    "name": "ipython",
    "version": 3
   },
   "file_extension": ".py",
   "mimetype": "text/x-python",
   "name": "python",
   "nbconvert_exporter": "python",
   "pygments_lexer": "ipython3",
   "version": "3.6.4"
  }
 },
 "nbformat": 4,
 "nbformat_minor": 2
}
