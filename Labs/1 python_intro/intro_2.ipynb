{
 "cells": [
  {
   "cell_type": "markdown",
   "metadata": {},
   "source": [
    "## String常用范例\n",
    "* 隐藏字符(隐藏字符是指不能被打印，却可以被python的解释器理解其含义的那些字符.如下图所示)\n",
    "    ![demo](res/escape.png)\n",
    "    隐藏字符一般需要使用'\\'作为前缀来表示，最常用的隐藏字符包括'\\n','\\t',分别是换行符和缩进字符\n",
    "* string操作符（如下表格所示）\n",
    "    ![table](res/string_1.png)![table](res/string_2.png)\n",
    "* string格式化操作符\n",
    "    ![format](res/string_3.png)\n",
    "* 常用string内置api图表\n",
    "![api](res/string_api1.png)![api](res/string_api2.png)\n",
    "![api](res/string_api3.png)![api](res/string_api4.png)\n",
    "![api](res/string_api5.png)![api](res/string_api6.png)\n",
    "![api](res/string_api7.png)"
   ]
  },
  {
   "cell_type": "code",
   "execution_count": 7,
   "metadata": {
    "collapsed": false
   },
   "outputs": [
    {
     "name": "stdout",
     "output_type": "stream",
     "text": [
      "var1[0]:  H\n",
      "var2[1:5]:  ytho\n",
      "Hello World! Python Programming\n",
      "My name is Zara and weight is 21 kg!\n",
      "C:\\nowhere\n",
      "C:\\\\nowhere\n",
      "你好，世界\n",
      " this is a long string that is made up of\n",
      "several lines and non-printable characters such as\n",
      "TAB ( \t ) and they will show up that way when displayed.\n",
      "NEWLINEs within the string, whether explicitly given like\n",
      "this within the brackets [ \n",
      " ], or just a NEWLINE within\n",
      "the variable assignment will also show up.\n",
      "\n",
      " that is a long string that is made up of\n",
      "several lines and non-printable characters such as\n",
      "TAB ( \t ) and they will show up that way when displayed.\n",
      "NEWLINEs within the string, whether explicitly given like\n",
      "that within the brackets [ \n",
      " ], or just a NEWLINE within\n",
      "the variable assignment will also show up.\n",
      "\n",
      "String_usage\n",
      "2\n",
      "True\n",
      "_\n",
      "u\n"
     ]
    }
   ],
   "source": [
    "var1 = 'Hello World!'#可以用单引号\n",
    "var2 = \"Python Programming\"#也可以用双引号\n",
    "\n",
    "print (\"var1[0]: \", var1[0])#取string的第一个字符，从0开始索引\n",
    "print (\"var2[1:5]: \", var2[1:5])#取string的第二个到第六个字符，从0开始索引\n",
    "\n",
    "print (var1+ \" \" +var2)#\"+\"操作符用来连接字符串\n",
    "\n",
    "\n",
    "print (\"My name is %s and weight is %d kg!\" % ('Zara', 21) )#格式化操作用例\n",
    "\n",
    "print ('C:\\\\nowhere')#转义字符用例说明\n",
    "\n",
    "print (r'C:\\\\nowhere')#注意r操作符的特殊作用，输出原始字符串\n",
    "\n",
    "print (u'你好，世界')#注意u是unicode操作符，由于它会告诉解释器默认对每个字符采用8位存储，unciode采用16位存储，所以unicode可以正确存储特殊字符\n",
    "\n",
    "# test: add r before \"\"\", see the difference at \\t and \\n\n",
    "para_str = \"\"\" this is a long string that is made up of\n",
    "several lines and non-printable characters such as\n",
    "TAB ( \\t ) and they will show up that way when displayed.\n",
    "NEWLINEs within the string, whether explicitly given like\n",
    "this within the brackets [ \\n ], or just a NEWLINE within\n",
    "the variable assignment will also show up.\n",
    "\"\"\"\n",
    "#三引号符（可以将特殊字符直接输入到其中）\n",
    "print (para_str)\n",
    "print(para_str.replace(\"this\", \"that\"))\n",
    "\n",
    "#string api 使用示例\n",
    "demo = \"string_usage\"\n",
    "print(demo.capitalize())#第一个字母大写\n",
    "\n",
    "print(demo.count(\"s\"))#计算子字符串出现的次数\n",
    "\n",
    "print(demo.endswith(\"usage\"))#计算字符串是否有特定后缀\n",
    "\n",
    "print(min(demo))#计算字符串中ascii码最小的字符\n",
    "\n",
    "print(max(demo))#计算字符串中ascii码最大的字符\n",
    "\n",
    "\n"
   ]
  },
  {
   "cell_type": "code",
   "execution_count": null,
   "metadata": {
    "collapsed": true
   },
   "outputs": [],
   "source": []
  }
 ],
 "metadata": {
  "kernelspec": {
   "display_name": "Python 3",
   "language": "python",
   "name": "python3"
  },
  "language_info": {
   "codemirror_mode": {
    "name": "ipython",
    "version": 3
   },
   "file_extension": ".py",
   "mimetype": "text/x-python",
   "name": "python",
   "nbconvert_exporter": "python",
   "pygments_lexer": "ipython3",
   "version": "3.6.0"
  }
 },
 "nbformat": 4,
 "nbformat_minor": 2
}
