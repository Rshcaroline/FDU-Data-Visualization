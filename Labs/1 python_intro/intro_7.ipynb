{
 "cells": [
  {
   "cell_type": "markdown",
   "metadata": {
    "collapsed": true
   },
   "source": [
    "## Functions\n",
    "\n",
    "  **将在以下代码示例中详细讲述函数的定义及用法**\n",
    "\n",
    "  ** 更多可以在网上找到，如以下链接**\n",
    "  \n",
    "  http://www.jb51.net/article/47991.htm"
   ]
  },
  {
   "cell_type": "code",
   "execution_count": 19,
   "metadata": {
    "collapsed": false
   },
   "outputs": [
    {
     "name": "stdout",
     "output_type": "stream",
     "text": [
      "['front', 'back']\n",
      "infunction ['front', 'back', 'haha', ['hoho', 1]]\n",
      "['front', 'back', 'haha', ['hoho', 1]]\n",
      "[1, 2, 3]\n",
      "in funciton [4, 5, 6]\n",
      "[1, 2, 3, ['a', 'b']]\n"
     ]
    }
   ],
   "source": [
    "def additemtome( mylist, defaultstr='abc' ):\n",
    "    \"add a few items to the list and print it out\"\n",
    "    mylist.append('haha')\n",
    "    #print(mylist)\n",
    "    mylist.append(['hoho',1])\n",
    "    print('infunction',mylist)\n",
    "    #print(mylist[3],mylist[3][1],defaultstr)\n",
    "    return\n",
    "\n",
    "a=['front', 'back']\n",
    "print(a)\n",
    "additemtome(a, 'ddd') # 参数引用\n",
    "print(a)\n",
    "\n",
    "\n",
    "pos=[1,2,3]\n",
    "print (pos)\n",
    "\n",
    "def testfunc(pos):\n",
    "    pos.append(['a','b'])\n",
    "    pp=[3,4,5]\n",
    "    pos=list(map(lambda x:x+1, pp))\n",
    "    print('in funciton', pos )\n",
    "    return\n",
    " \n",
    "testfunc(pos)\n",
    "print(pos)\n"
   ]
  },
  {
   "cell_type": "code",
   "execution_count": 47,
   "metadata": {
    "collapsed": false
   },
   "outputs": [
    {
     "name": "stdout",
     "output_type": "stream",
     "text": [
      "Output is: \n",
      "10\n",
      "Output is: \n",
      "70\n",
      "60\n",
      "50\n",
      "Value of total :  30\n",
      "Value of total :  40\n",
      "Inside the function local total :  30\n",
      "Outside the function global total :  0\n"
     ]
    }
   ],
   "source": [
    "#------函数的定义------\n",
    "# def printme( str ):\n",
    "#    \"This prints a passed string into this function\"#函数的默认描述语句放在这里，解释器会正确理解\n",
    "#    print (str)\n",
    "#    return\n",
    "# #------函数的定义------\n",
    "\n",
    "#printme(\"lalal\")#函数调用\n",
    "\n",
    "\n",
    "#------函数参数1------\n",
    "#所有传递给函数的参数都是以reference形式来使用的，所以我们可以改变传给函数的参数的值\n",
    "# def changeme( mylist ):\n",
    "#    \"This changes a passed list into this function\"\n",
    "#    mylist.append([1,2,3,4]) \n",
    "#    print (\"Values inside the function: \", mylist)\n",
    "#    return\n",
    "\n",
    "# mylist = [10,20,30];\n",
    "# changeme( mylist );\n",
    "# print (\"Values outside the function: \", mylist)\n",
    "# #------函数参数1------\n",
    "\n",
    "# #------函数参数2------\n",
    "# #所有传递给函数的参数都是以reference形式来使用的，所以我们可以改变传给函数的参数的值\n",
    "# def printme1( str ):#必须参数\n",
    "#    \"This prints a passed string into this function\"\n",
    "#    print (str)\n",
    "#    return;\n",
    "\n",
    "# def printme2( str1,str=\"lalal\"):#默认参数\n",
    "#    \"This prints a passed string into this function\"\n",
    "#    print (str1+str)\n",
    "#    return;\n",
    "\n",
    "# printme2(\"goodboy \",str=\"newnew\")#关键词参数引用\n",
    "\n",
    "\n",
    "def printinfo( arg1, *vartuple ):#第二个参数的形式表示可能有多个不定数量的参数\n",
    "   \"This prints a variable passed arguments\"\n",
    "   print (\"Output is: \")\n",
    "   print (arg1)\n",
    "   for var in vartuple:\n",
    "      print(var)\n",
    "   return;\n",
    "printinfo( 10 )\n",
    "printinfo( 70, 60, 50 )\n",
    "#------函数参数2------\n",
    "\n",
    "\n",
    "#------匿名函数------\n",
    "# Function definition is here\n",
    "sum = lambda arg1, arg2: arg1 + arg2;#使用lambda关键字定义一个匿名函数\n",
    " \n",
    "# Now you can call sum as a function\n",
    "print (\"Value of total : \", sum( 10, 20 ))\n",
    "print (\"Value of total : \", sum( 20, 20 ))\n",
    "#------匿名函数------\n",
    "\n",
    "#------全局变量(无法全局)局部变量------\n",
    "# Function definition is here\n",
    "total = 0; # This is NOT global variable.\n",
    "# Function definition is here\n",
    "def sum( arg1, arg2 ):\n",
    "   # Add both the parameters and return them.\" \n",
    "   total = arg1 + arg2; # Here total is local variable.\n",
    "   print (\"Inside the function local total : \", total)\n",
    "   return total;\n",
    "\n",
    "# Now you can call sum function\n",
    "sum( 10, 20 );\n",
    "print (\"Outside the function global total : \", total )\n",
    "#------全局变量局部变量------"
   ]
  },
  {
   "cell_type": "code",
   "execution_count": null,
   "metadata": {
    "collapsed": true
   },
   "outputs": [],
   "source": []
  }
 ],
 "metadata": {
  "kernelspec": {
   "display_name": "Python 3",
   "language": "python",
   "name": "python3"
  },
  "language_info": {
   "codemirror_mode": {
    "name": "ipython",
    "version": 3
   },
   "file_extension": ".py",
   "mimetype": "text/x-python",
   "name": "python",
   "nbconvert_exporter": "python",
   "pygments_lexer": "ipython3",
   "version": "3.6.0"
  }
 },
 "nbformat": 4,
 "nbformat_minor": 2
}
