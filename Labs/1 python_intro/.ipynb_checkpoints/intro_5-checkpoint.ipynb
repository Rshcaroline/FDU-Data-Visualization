{
 "cells": [
  {
   "cell_type": "markdown",
   "metadata": {
    "collapsed": true
   },
   "source": [
    "## Basic Operators\n",
    "\n",
    "  **python中的操作符可分为以下几类**\n",
    "  \n",
    "* 算数运算符\n",
    "    ![api](res/operators_1.png)\n",
    "* 关系运算符\n",
    "    ![api](res/operators_2.png)\n",
    "* 赋值运算符\n",
    "    ![api](res/operators_3.png)\n",
    "* 比特位运算符\n",
    "    ![api](res/operators_5.png)\n",
    "* 成员运算符\n",
    "    ![api](res/operators_6.png)\n",
    "* 身份运算符\n",
    "    ![api](res/operators_7.png)\n",
    "    \n",
    "    \n",
    "**python中的操作符优先级如下所示,从高到低排列**\n",
    "![api](res/operators_9.png)"
   ]
  },
  {
   "cell_type": "code",
   "execution_count": 21,
   "metadata": {
    "collapsed": false
   },
   "outputs": [
    {
     "name": "stdout",
     "output_type": "stream",
     "text": [
      "False\n",
      "False\n"
     ]
    }
   ],
   "source": [
    "a = 4\n",
    "b = 10\n",
    "#------算数运算符------\n",
    "# print(a+b)\n",
    "# print(a-b)\n",
    "# print(a*b)\n",
    "# print(b**a)\n",
    "# print(a/b)\n",
    "# print(a//b)\n",
    "#------算数运算符------\n",
    "\n",
    "\n",
    "\n",
    "#------关系运算符------\n",
    "# print(a==b)\n",
    "# print(a!=b)\n",
    "# print(a>b)\n",
    "# print(b<a)\n",
    "# print(a>=b)\n",
    "# print(a<=b)\n",
    "#------关系运算符------\n",
    "\n",
    "\n",
    "\n",
    "#------赋值运算符------\n",
    "# a+=b\n",
    "# print(a)\n",
    "\n",
    "# a-=b\n",
    "# print(a)\n",
    "\n",
    "# a*=b\n",
    "# print(a)\n",
    "\n",
    "# b**=a\n",
    "# print(a)\n",
    "\n",
    "# a/=b\n",
    "# print(a)\n",
    "\n",
    "# a//=b\n",
    "# print(a)\n",
    "#------赋值运算符------\n",
    "\n",
    "#------位运算符------\n",
    "# a=60#a=0011 1100\n",
    "# b=13#b=0000 1101\n",
    "\n",
    "# print(a&b)#means 0000 1100\n",
    "# print(a|b)#means 0011 1101\n",
    "# print(a^b)#means 0011 0001\n",
    "# print(~a) #means 1100 0011\n",
    "# # a<<=2      #means 1111 0000\n",
    "# print(a)\n",
    "# a>>=2      #means 0000 1111\n",
    "# print(a)\n",
    "#------位运算符------\n",
    "\n",
    "\n",
    "#------成员运算符------\n",
    "# a=[60,\"aaa\"]\n",
    "\n",
    "# print(60 in a)\n",
    "# print(0 not in a)\n",
    "#------成员运算符------\n",
    "\n",
    "\n",
    "#------身份运算符------\n",
    "a=2\n",
    "b=3\n",
    "c=2\n",
    "print(a is b)\n",
    "print(a is not c)\n",
    "#------身份运算符------"
   ]
  },
  {
   "cell_type": "code",
   "execution_count": null,
   "metadata": {
    "collapsed": true
   },
   "outputs": [],
   "source": []
  }
 ],
 "metadata": {
  "kernelspec": {
   "display_name": "Python 3",
   "language": "python",
   "name": "python3"
  },
  "language_info": {
   "codemirror_mode": {
    "name": "ipython",
    "version": 3
   },
   "file_extension": ".py",
   "mimetype": "text/x-python",
   "name": "python",
   "nbconvert_exporter": "python",
   "pygments_lexer": "ipython3",
   "version": "3.6.0"
  }
 },
 "nbformat": 4,
 "nbformat_minor": 2
}
