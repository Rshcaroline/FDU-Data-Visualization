{
 "cells": [
  {
   "cell_type": "markdown",
   "metadata": {},
   "source": [
    "## 变量类型\n",
    "\n",
    "    变量是保留在对应内存地址中的一些数据信息，这意味着当你创建一个变量的时候，你就在内存中保留了对应的内存地址。\n",
    "    \n",
    "    基于变量的数据类型，解释器会给变量分配对应的内存并判断是否是合法的数据格式，因此，如果你给一批数据定义了不同的数据类型，你也只能能给它们赋给不同格式的数据，像是整形，浮点型，或者是字符串。\n",
    "\n",
    "### 变量赋值\n",
    "    python中的变量不需要明确的声明来确定类型，当你在给它赋值的时候就自动地确定了。“=”就是给变量赋值的操作符。\n",
    "    \n",
    "    “=”左边是变量名，右边是具体的数值，如下所示。"
   ]
  },
  {
   "cell_type": "code",
   "execution_count": 4,
   "metadata": {
    "collapsed": false
   },
   "outputs": [
    {
     "name": "stdout",
     "output_type": "stream",
     "text": [
      "100\n",
      "1.0\n",
      "hello\n",
      "zxh aged 101 weighted 62.1\n"
     ]
    }
   ],
   "source": [
    "counter = 100 #整形变量的声明\n",
    "miles = 1.0 #浮点型变量的声明\n",
    "name = \"hello\" #字符串变量声明\n",
    "\n",
    "print(counter)\n",
    "print(miles)\n",
    "print(name)\n",
    "\n",
    "age=101\n",
    "weight=62.1 #kg\n",
    "name=\"zxh\"\n",
    "print( name+\" aged\",age,\"weighted\",weight)"
   ]
  },
  {
   "cell_type": "markdown",
   "metadata": {},
   "source": [
    "### 多重赋值\n",
    "   * python允许用同一个数值给多个变量赋值\n",
    "   * 或者是用多个数值给多个变量赋值"
   ]
  },
  {
   "cell_type": "code",
   "execution_count": 3,
   "metadata": {
    "collapsed": false
   },
   "outputs": [
    {
     "name": "stdout",
     "output_type": "stream",
     "text": [
      "2 2 2\n",
      "1 2 athen\n"
     ]
    }
   ],
   "source": [
    "a = b = c = 2\n",
    "print(a,b,c)\n",
    "a,b,c=1,2,\"athen\"\n",
    "print(a,b,c)"
   ]
  },
  {
   "cell_type": "markdown",
   "metadata": {
    "collapsed": true
   },
   "source": [
    "### 标准数据类型\n",
    "python有如下五种标准数据类型\n",
    "\n",
    " * Numbers\n",
    " * String\n",
    " * List\n",
    " * Tuple\n",
    " * Dictionary    "
   ]
  },
  {
   "cell_type": "code",
   "execution_count": 11,
   "metadata": {
    "collapsed": false
   },
   "outputs": [
    {
     "ename": "SyntaxError",
     "evalue": "invalid syntax (<ipython-input-11-59a761de4d80>, line 10)",
     "output_type": "error",
     "traceback": [
      "\u001b[0;36m  File \u001b[0;32m\"<ipython-input-11-59a761de4d80>\"\u001b[0;36m, line \u001b[0;32m10\u001b[0m\n\u001b[0;31m    var3 = 99L # 报错\u001b[0m\n\u001b[0m             ^\u001b[0m\n\u001b[0;31mSyntaxError\u001b[0m\u001b[0;31m:\u001b[0m invalid syntax\n"
     ]
    }
   ],
   "source": [
    "var1 = 99     #声明数值类型\n",
    "var2 = 10.0  #声明数值类型\n",
    "\n",
    "print(var1,var2)\n",
    "\n",
    "del var1,var2#删除内存中的变量\n",
    "\n",
    "print(var1,var2)#打印的时候会报错\n",
    "\n",
    "var3 = 99L # 报错"
   ]
  },
  {
   "cell_type": "markdown",
   "metadata": {},
   "source": [
    "下面是一些python数值类型的一些举例(Long型好像支持了）\n",
    "![example](res/number.png)"
   ]
  },
  {
   "cell_type": "code",
   "execution_count": null,
   "metadata": {
    "collapsed": true
   },
   "outputs": [],
   "source": []
  }
 ],
 "metadata": {
  "kernelspec": {
   "display_name": "Python 3",
   "language": "python",
   "name": "python3"
  },
  "language_info": {
   "codemirror_mode": {
    "name": "ipython",
    "version": 3
   },
   "file_extension": ".py",
   "mimetype": "text/x-python",
   "name": "python",
   "nbconvert_exporter": "python",
   "pygments_lexer": "ipython3",
   "version": "3.6.0"
  }
 },
 "nbformat": 4,
 "nbformat_minor": 2
}
