{
 "cells": [
  {
   "cell_type": "markdown",
   "metadata": {
    "collapsed": true
   },
   "source": [
    "## Files I/O\n",
    "\n",
    "  **python中提供了很多内置的api来实现文件读写和input output的功能**\n",
    "  \n",
    "* 文件读取\n",
    "    相关api及读取模式如下所示![api](res/io_1.png)![api](res/io_2.png)\n",
    "    \n",
    "**下面通过具体的代码介绍文件和I/O的知识**"
   ]
  },
  {
   "cell_type": "code",
   "execution_count": 6,
   "metadata": {
    "collapsed": false
   },
   "outputs": [
    {
     "name": "stdout",
     "output_type": "stream",
     "text": [
      "Name of the file:  foo.txt\n",
      "Closed or not :  False\n",
      "Opening mode :  w\n",
      "Read String is :  Python is \n"
     ]
    }
   ],
   "source": [
    "import os#需要引入osmodule才能执行以下操作\n",
    "\n",
    "#------文件读写------\n",
    "fo = open(\"foo.txt\", \"w\")\n",
    "fo.write( \"Python is a great language.\\nYeah its great!!\\n\");\n",
    "print (\"Name of the file: \", fo.name)\n",
    "print (\"Closed or not : \", fo.closed)\n",
    "print (\"Opening mode : \", fo.mode)\n",
    "fo.close()#关闭文件\n",
    "\n",
    "os.rename( \"foo.txt\", \"rawraw.txt\" )#重命名文件\n",
    "# os.remove(rawraw.txt)#删除文件\n",
    "\n",
    "\n",
    "fr = open(\"rawraw.txt\", \"r+\")\n",
    "str = fr.read(10);\n",
    "print (\"Read String is : \", str)\n",
    "# Close opend file\n",
    "fr.close()\n",
    "#------文件读写------\n",
    "\n",
    "\n",
    "#------目录相关------\n",
    "# os.mkdir(\"newdir\")#新建目录\n",
    "# os.rmdir('newdir')#删除目录\n",
    "# print(os.getcwd())#获取当前io路径\n",
    "# os.chdir(\"newdir\")#改变当前io路径\n",
    "#------目录相关------"
   ]
  }
 ],
 "metadata": {
  "kernelspec": {
   "display_name": "Python 3",
   "language": "python",
   "name": "python3"
  },
  "language_info": {
   "codemirror_mode": {
    "name": "ipython",
    "version": 3
   },
   "file_extension": ".py",
   "mimetype": "text/x-python",
   "name": "python",
   "nbconvert_exporter": "python",
   "pygments_lexer": "ipython3",
   "version": "3.6.0"
  }
 },
 "nbformat": 4,
 "nbformat_minor": 2
}
