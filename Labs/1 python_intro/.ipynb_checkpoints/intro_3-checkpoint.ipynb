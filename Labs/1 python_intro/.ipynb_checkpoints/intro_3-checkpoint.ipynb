{
 "cells": [
  {
   "cell_type": "markdown",
   "metadata": {
    "collapsed": true
   },
   "source": [
    "## List\n",
    "\n",
    "  **list类似于c++中的数组，是python中最常用的数据结构。list中的每一个元素都有一个整形类型的索引，从0开始计数。**"
   ]
  },
  {
   "cell_type": "code",
   "execution_count": 1,
   "metadata": {
    "collapsed": false
   },
   "outputs": [
    {
     "name": "stdout",
     "output_type": "stream",
     "text": [
      "['chemistry']\n",
      "['physics', 'chemistry', 1997, 2000, 1, 2, 3, 4, 5, 'a', 'b', 'c', 'd']\n"
     ]
    }
   ],
   "source": [
    "#list元素的声明\n",
    "list1 = ['physics', 'chemistry', 1997, 2000];#其中元素的数据类型不作限制\n",
    "list2 = [1, 2, 3, 4, 5 ];\n",
    "list3 = [\"a\", \"b\", \"c\", \"d\"]\n",
    "listadd=list1+list2+list3;\n",
    "print(listadd[1:2])\n",
    "print(listadd) "
   ]
  },
  {
   "cell_type": "code",
   "execution_count": 17,
   "metadata": {
    "collapsed": false
   },
   "outputs": [
    {
     "name": "stdout",
     "output_type": "stream",
     "text": [
      "chemistry\n",
      "100\n",
      "1997\n",
      "3\n",
      "---------------\n",
      "physics\n",
      "1997\n",
      "2000\n",
      "1\n",
      "2\n",
      "3\n",
      "4\n",
      "5\n",
      "---------------\n",
      "---------------\n",
      "physics\n",
      "1997\n",
      "2000\n",
      "physics\n",
      "1997\n",
      "2000\n",
      "---------------\n",
      "True\n",
      "1997\n",
      "[1997, 2000]\n"
     ]
    }
   ],
   "source": [
    "#list元素的声明\n",
    "list1 = ['physics', 'chemistry', 1997, 2000];#其中元素的数据类型不作限制\n",
    "list2 = [1, 2, 3, 4, 5 ];\n",
    "list3 = [\"a\", \"b\", \"c\", \"d\"]\n",
    "\n",
    "#取list1中的第二个元素，list中元素从0开始索引\n",
    "print(list1[1])\n",
    "\n",
    "list1[1] = 100#更新元素，同样不用考虑数据类型的一致\n",
    "\n",
    "print(list1[1])\n",
    "\n",
    "del list1[1]#删除list1中的第二个元素\n",
    "\n",
    "print(list1[1])\n",
    "\n",
    "print(len(list1))#系统api，返回list1的长度\n",
    "\n",
    "listadd = list1 + list2 #将两个list数据连接起来\n",
    "\n",
    "print(\"---------------\")\n",
    "for x in listadd:#遍历list的元素\n",
    "    print(x)\n",
    "print(\"---------------\")\n",
    "\n",
    "listmul = list1*2#扩充list\n",
    "print(\"---------------\")\n",
    "for x in listmul:#遍历list的元素\n",
    "    print(x)\n",
    "print(\"---------------\")\n",
    "\n",
    "print(1997 in listmul)#逻辑判断\n",
    "\n",
    "\n",
    "print(list1[-2])#返回倒数第二个元素\n",
    "print(list1[1:])#返回第一个之后的所有元素"
   ]
  },
  {
   "cell_type": "markdown",
   "metadata": {},
   "source": [
    "### 可用在list上的一些常用api\n",
    "![api](res/list_api1.png)\n",
    "\n",
    "\n",
    "\n",
    "\n",
    "### list本身包含的方法\n",
    "![api](res/list_api2.png)"
   ]
  }
 ],
 "metadata": {
  "kernelspec": {
   "display_name": "Python 3",
   "language": "python",
   "name": "python3"
  },
  "language_info": {
   "codemirror_mode": {
    "name": "ipython",
    "version": 3
   },
   "file_extension": ".py",
   "mimetype": "text/x-python",
   "name": "python",
   "nbconvert_exporter": "python",
   "pygments_lexer": "ipython3",
   "version": "3.6.0"
  }
 },
 "nbformat": 4,
 "nbformat_minor": 2
}
