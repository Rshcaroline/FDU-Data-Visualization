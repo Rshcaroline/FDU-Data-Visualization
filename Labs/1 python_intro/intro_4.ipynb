{
 "cells": [
  {
   "cell_type": "markdown",
   "metadata": {
    "collapsed": true
   },
   "source": [
    "## Tuple\n",
    "\n",
    "  **Tuple和list类似，不同点在于其中的元素不能被删除，改变**"
   ]
  },
  {
   "cell_type": "code",
   "execution_count": 4,
   "metadata": {
    "collapsed": false
   },
   "outputs": [
    {
     "name": "stdout",
     "output_type": "stream",
     "text": [
      "['physics', 1, 2, 'physics', 1, 2]\n",
      "('physics', 1, 2)\n"
     ]
    }
   ],
   "source": [
    "tuple1=('physics',1,2)\n",
    "list1=list(tuple1)\n",
    "print(list1+list(tuple1))\n",
    "print(tuple1)"
   ]
  },
  {
   "cell_type": "code",
   "execution_count": 2,
   "metadata": {
    "collapsed": false
   },
   "outputs": [
    {
     "name": "stdout",
     "output_type": "stream",
     "text": [
      "chemistry\n",
      "('physics', 'chemistry', 1997, 2000, 'a', 'b', 'c', 'd')\n",
      "---------------\n",
      "physics\n",
      "chemistry\n",
      "1997\n",
      "2000\n",
      "a\n",
      "b\n",
      "c\n",
      "d\n",
      "---------------\n",
      "True\n",
      "c\n",
      "('b', 'c', 'd')\n"
     ]
    }
   ],
   "source": [
    "#tuple元素的声明\n",
    "tup1 = ('physics', 'chemistry', 1997, 2000);#用小括号包起来来声明的就是tuple\n",
    "tup2 = \"a\", \"b\", \"c\", \"d\";#如果直接以这种形式声明，也是tuple\n",
    "\n",
    "\n",
    "#取list1中的第二个元素，list中元素从0开始索引\n",
    "print(tup1[1])\n",
    "\n",
    "# tup1[1] = 100#出错\n",
    "\n",
    "# del list1[1]#出错\n",
    "tup3 = tup1 + tup2 #将两个tuple数据累加\n",
    "\n",
    "print(tup3)\n",
    "\n",
    "print(\"---------------\")\n",
    "for x in tup3:#遍历list的元素\n",
    "    print(x)\n",
    "print(\"---------------\")\n",
    "\n",
    "\n",
    "print(1997 in tup3)#逻辑判断\n",
    "\n",
    "\n",
    "print(tup2[-2])#返回倒数第二个元素\n",
    "print(tup2[1:])#返回第一个之后的所有元素"
   ]
  },
  {
   "cell_type": "markdown",
   "metadata": {},
   "source": [
    "### 可用在tuple上的一些常用api\n",
    "![api](res/tuple_1.png)"
   ]
  },
  {
   "cell_type": "code",
   "execution_count": 5,
   "metadata": {
    "collapsed": false
   },
   "outputs": [
    {
     "name": "stdout",
     "output_type": "stream",
     "text": [
      "4\n",
      "d\n",
      "(1, 2, 3)\n"
     ]
    }
   ],
   "source": [
    "tup1 = ('physics', 'chemistry', 1997, 2000);\n",
    "tup2 = \"a\", \"b\", \"c\", \"d\";\n",
    "\n",
    "print(len(tup1))\n",
    "\n",
    "print(max(tup2))\n",
    "\n",
    "print(tuple([1,2,3]))"
   ]
  },
  {
   "cell_type": "code",
   "execution_count": null,
   "metadata": {
    "collapsed": true
   },
   "outputs": [],
   "source": []
  }
 ],
 "metadata": {
  "kernelspec": {
   "display_name": "Python 3",
   "language": "python",
   "name": "python3"
  },
  "language_info": {
   "codemirror_mode": {
    "name": "ipython",
    "version": 3
   },
   "file_extension": ".py",
   "mimetype": "text/x-python",
   "name": "python",
   "nbconvert_exporter": "python",
   "pygments_lexer": "ipython3",
   "version": "3.6.0"
  }
 },
 "nbformat": 4,
 "nbformat_minor": 2
}
