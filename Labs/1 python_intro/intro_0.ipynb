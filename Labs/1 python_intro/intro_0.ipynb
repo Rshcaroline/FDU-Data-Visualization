{
 "cells": [
  {
   "cell_type": "markdown",
   "metadata": {},
   "source": [
    "# Contents\n",
    "* [Packages](intro_11.ipynb)\n",
    "* [Variables and Types](intro_1.ipynb)\n",
    "* [String](intro_2.ipynb)\n",
    "* [Lists](intro_3.ipynb)\n",
    "* [Tuple](intro_4.ipynb)\n",
    "* [Dictionaries](intro_10.ipynb)\n",
    "* [Basic Operators](intro_5.ipynb)\n",
    "* [Descison and Loop](intro_6.ipynb)\n",
    "* [Functions](intro_7.ipynb)\n",
    "* [Files I/O](intro_9.ipynb)\n",
    "* [Classes and Objects](intro_8.ipynb)\n"
   ]
  }
 ],
 "metadata": {
  "kernelspec": {
   "display_name": "Python 3",
   "language": "python",
   "name": "python3"
  },
  "language_info": {
   "codemirror_mode": {
    "name": "ipython",
    "version": 3
   },
   "file_extension": ".py",
   "mimetype": "text/x-python",
   "name": "python",
   "nbconvert_exporter": "python",
   "pygments_lexer": "ipython3",
   "version": "3.6.4"
  }
 },
 "nbformat": 4,
 "nbformat_minor": 2
}
