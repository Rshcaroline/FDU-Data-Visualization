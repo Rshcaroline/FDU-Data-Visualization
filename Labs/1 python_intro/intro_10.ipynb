{
 "cells": [
  {
   "cell_type": "markdown",
   "metadata": {
    "collapsed": true
   },
   "source": [
    "## Dictionary\n",
    "\n",
    "  **dictionary是一种存储key-value数据的数据结构，和list类似，使用十分灵活**\n",
    "\n",
    "\n",
    "\n",
    "\n",
    "\n",
    "\n"
   ]
  },
  {
   "cell_type": "code",
   "execution_count": 27,
   "metadata": {
    "collapsed": false
   },
   "outputs": [
    {
     "name": "stdout",
     "output_type": "stream",
     "text": [
      "Zara (2, 3)\n",
      "{1: 'Zara', (2, 3): (2, 3), 'list': [1, 2, 3]}\n",
      "dict_keys([1, (2, 3), 'list'])\n",
      "dict_items([(1, 'Zara'), ((2, 3), (2, 3)), ('list', [1, 2, 3])])\n",
      "dict_values(['Zara', (2, 3), [1, 2, 3]])\n",
      "[1, 2, 3]\n"
     ]
    }
   ],
   "source": [
    "\n",
    "dict3 = {1: 'Zara', (2,3): (2,3), 'list':[1,2,3]} # Tuple 类型作为key，list可以作为value\n",
    "print(dict3[1],dict3[(2,3)])#可使用数值和tuple作为dict的key\n",
    "print(str(dict3))\n",
    "print(dict3.keys())\n",
    "print(dict3.items())\n",
    "print(dict3.values())\n",
    "print(dict3.get('list'))"
   ]
  },
  {
   "cell_type": "code",
   "execution_count": 15,
   "metadata": {
    "collapsed": false
   },
   "outputs": [
    {
     "name": "stdout",
     "output_type": "stream",
     "text": [
      "dict['Name']:  Zara\n",
      "dict['Age']:  7\n",
      "dict['Name']:  aron\n",
      "{'Age': 7, 'Class': 'First'}\n",
      "{}\n",
      "Zara 7\n",
      "2\n",
      "{1: 'Zara', 2: 7}\n",
      "<class 'dict'>\n",
      "dict_values(['Zara', 7])\n",
      "{1: 'Zara', 2: 7, 'a': 3}\n",
      "Zara\n"
     ]
    }
   ],
   "source": [
    "dict1 = {'Name': 'Zara', 'Age': 7, 'Class': 'First'}#dictionary的赋值\n",
    "\n",
    "print (\"dict['Name']: \", dict1['Name'])#从dictionary中取值\n",
    "\n",
    "print (\"dict['Age']: \", dict1['Age'])\n",
    "\n",
    "dict1['Name']='aron'#元素的更新\n",
    "print (\"dict['Name']: \", dict1['Name'])\n",
    "\n",
    "\n",
    "\n",
    "\n",
    "del dict1['Name']; # 删除key为name的元素\n",
    "print(dict1)\n",
    "\n",
    "dict1.clear();     # 删除dict中的所有元素\n",
    "print(dict1)\n",
    "\n",
    "del dict1 ;        # 删除整个dict\n",
    "\n",
    "# print(dict1)\n",
    "\n",
    "\n",
    "\n",
    "# dict2 = {['Name']: 'Zara', 'Age': 7}\n",
    "# print(dict2['name'])#不可以使用list作为key，只能使用不可变的量（即string,number,tuple）\n",
    "\n",
    "dict3 = {1: 'Zara', (2): 7}\n",
    "print(dict3[1],dict3[(2)])#可使用数值和tuple作为dict的key\n",
    "\n",
    "\n",
    "\n",
    "##--内建函数的使用--\n",
    "print(len(dict3))\n",
    "print(str(dict3))\n",
    "print(type(dict3))\n",
    "##--内建函数的使用--\n",
    "\n",
    "\n",
    "##--内建方法的使用--\n",
    "print(dict3.values())#输出dict中的value\n",
    "\n",
    "dict3.update({'a':3})#添加另一个dict的元素到dict\n",
    "print(dict3)\n",
    "\n",
    "print(dict3.get(1))#获取dict中元素的另一种方式\n",
    "##--内建方法的使用--"
   ]
  },
  {
   "cell_type": "markdown",
   "metadata": {},
   "source": [
    "### 可用在dictionary上的一些常用api\n",
    "![api](res/dict_1.png)\n",
    "\n",
    "\n",
    "\n",
    "\n",
    "### dictionary本身包含的方法\n",
    "![api](res/dict_2.png)\n",
    "![api](res/dict_3.png)"
   ]
  }
 ],
 "metadata": {
  "kernelspec": {
   "display_name": "Python 3",
   "language": "python",
   "name": "python3"
  },
  "language_info": {
   "codemirror_mode": {
    "name": "ipython",
    "version": 3
   },
   "file_extension": ".py",
   "mimetype": "text/x-python",
   "name": "python",
   "nbconvert_exporter": "python",
   "pygments_lexer": "ipython3",
   "version": "3.6.0"
  }
 },
 "nbformat": 4,
 "nbformat_minor": 2
}
