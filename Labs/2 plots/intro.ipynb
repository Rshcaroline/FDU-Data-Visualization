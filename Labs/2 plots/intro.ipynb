{
 "cells": [
  {
   "cell_type": "markdown",
   "metadata": {},
   "source": [
    "### Contents（ref: http://matplotlib.org/api/pyplot_api.html )\n",
    "* [Bar plot 1: a simple case](src\\barDemo1.ipynb)\n",
    "* [Bar plot 2: bar/barh plus std](src\\barDemo2.ipynb)\n",
    "* [Bar plot 3: stacked bars](src\\barDemo3.ipynb)\n",
    "* [Pie plot](src\\pieDemo.ipynb)\n",
    "* [Box plot](src\\boxplot.ipynb)\n",
    "* [Gantt chart](src\\Gantt.ipynb)\n",
    "* [Scatter chart](src\\scatter_chart.ipynb)\n",
    "* [Lines with markers and the compolete case](src\\lines.ipynb)\n",
    "\n"
   ]
  }
 ],
 "metadata": {
  "kernelspec": {
   "display_name": "Python 3",
   "language": "python",
   "name": "python3"
  },
  "language_info": {
   "codemirror_mode": {
    "name": "ipython",
    "version": 3
   },
   "file_extension": ".py",
   "mimetype": "text/x-python",
   "name": "python",
   "nbconvert_exporter": "python",
   "pygments_lexer": "ipython3",
   "version": "3.6.4"
  }
 },
 "nbformat": 4,
 "nbformat_minor": 2
}
