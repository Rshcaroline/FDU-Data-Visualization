{
 "cells": [
  {
   "cell_type": "markdown",
   "metadata": {
    "collapsed": true
   },
   "source": [
    "# 题目二：灰度直方图均衡化\n",
    "\n",
    "\n",
    "## 题目描述\n",
    "\n",
    "Python编程实现灰度直方图均衡化算法（不能调用某个算法库里面的函数），并应用该算法在某个图片上，显示对比与原图的差别（提示：显示对比可以用两个图相减后的结果图，注意调节对比度范围，显示出差别）。\n",
    "\n",
    "## 解答\n",
    "\n",
    "- "
   ]
  },
  {
   "cell_type": "markdown",
   "metadata": {},
   "source": [
    "# 题目二：线性插值算法\n",
    "\n",
    "\n",
    "## 题目描述\n",
    "\n",
    "Python编程实现线性插值算法（不能调用某个算法库里面的插值函数）；读出一幅图像，利用线性插值把图片空间分辨率放大或缩小N倍，保存图片。\n",
    "\n",
    "## 解答\n",
    "\n",
    "- "
   ]
  },
  {
   "cell_type": "markdown",
   "metadata": {},
   "source": [
    "# 题目三：等值线/等高线\n",
    "\n",
    "\n",
    "## 题目描述\n",
    "\n",
    "Python编程实现在二维图片上画出等值线/等高线（不能调用某个算法库里面的等值线函数）；应用：输入原始图片（如JPG、PNG格式）和显示等值线数值或数量参数，输出带有等值线/等高线的图片。备注：这题关注的是等值线的计算，而不是平均分布的多条等高线，作业应该是给出一个图像的灰度值，计算给定值（如C=200或0.5）的等值线。\n",
    "\n",
    "## 解答\n",
    "\n",
    "- "
   ]
  },
  {
   "cell_type": "markdown",
   "metadata": {},
   "source": [
    "# 题目四：强化边界滤波算法\n",
    "\n",
    "\n",
    "## 题目描述\n",
    "\n",
    "Python编程实现强化边界滤波算法代码（不能调用某个算法库里面的函数）；并应用一张图片上，显示与原图的对比差别。\n",
    "\n",
    "## 解答\n",
    "\n",
    "- "
   ]
  },
  {
   "cell_type": "markdown",
   "metadata": {},
   "source": [
    "# 题目五：学习VTK\n",
    "\n",
    "\n",
    "## 题目描述\n",
    "\n",
    "课后阅读自学内容：阅读了解VTK（VTK - The Visualization Toolkit, www.vtk.org ），练习编程在Python环境下调用VTK库编程（作业请只回答是否完成自学）\n",
    "\n",
    "## 解答\n",
    "\n",
    "- "
   ]
  }
 ],
 "metadata": {
  "kernelspec": {
   "display_name": "Python 3",
   "language": "python",
   "name": "python3"
  },
  "language_info": {
   "codemirror_mode": {
    "name": "ipython",
    "version": 3
   },
   "file_extension": ".py",
   "mimetype": "text/x-python",
   "name": "python",
   "nbconvert_exporter": "python",
   "pygments_lexer": "ipython3",
   "version": "3.6.4"
  }
 },
 "nbformat": 4,
 "nbformat_minor": 1
}
